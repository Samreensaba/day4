{
 "cells": [
  {
   "cell_type": "code",
   "execution_count": 1,
   "id": "e84d97bf-167c-4cc9-9097-14731fffacab",
   "metadata": {},
   "outputs": [
    {
     "name": "stdout",
     "output_type": "stream",
     "text": [
      "---Welcome to your adventure simulator.---\n",
      "\u001b[91mI am going to ask you a bunch of questions and then create an epic story with you as the star!\u001b[0m🤩\n",
      "\n"
     ]
    },
    {
     "name": "stdin",
     "output_type": "stream",
     "text": [
      "What is your name? sam\n",
      "What is your worst enemy's name? zad\n",
      "What is your superpower? smile\n",
      "Where do you live? London\n",
      "What is your favourite food? burger\n"
     ]
    },
    {
     "name": "stdout",
     "output_type": "stream",
     "text": [
      "\n",
      "HEllo  sam ! your ability to \u001b[91m smile \u001b[00m will make sure you never have to look at  zad  again. Go eat  burger  as you walk down the streets of  London  and use  smile  for good and not evil!\n"
     ]
    }
   ],
   "source": [
    "print(\"---Welcome to your adventure simulator.---\")\n",
    "print(\n",
    "    \"\\033[91mI am going to ask you a bunch of questions and then create an epic story with you as the star!\\033[0m🤩\"\n",
    ")\n",
    "print()\n",
    "name = input(\"What is your name?\")\n",
    "enemy = input(\"What is your worst enemy's name?\")\n",
    "superPower = input(\"What is your superpower?\")\n",
    "live = input(\"Where do you live?\")\n",
    "food = input(\"What is your favourite food?\")\n",
    "print()\n",
    "print(\"HEllo \", name, \"! your ability to \\033[91m\", superPower,\n",
    "      \"\\033[00m will make sure you never have to look at \", enemy, \" again. Go eat \",\n",
    "      food, \" as you walk down the streets of \", live, \" and use \", superPower,\n",
    "      \" for good and not evil!\")"
   ]
  },
  {
   "cell_type": "code",
   "execution_count": null,
   "id": "95b83336-ec91-4e7e-8538-1dda1a59527f",
   "metadata": {},
   "outputs": [],
   "source": []
  }
 ],
 "metadata": {
  "kernelspec": {
   "display_name": "Python 3 (ipykernel)",
   "language": "python",
   "name": "python3"
  },
  "language_info": {
   "codemirror_mode": {
    "name": "ipython",
    "version": 3
   },
   "file_extension": ".py",
   "mimetype": "text/x-python",
   "name": "python",
   "nbconvert_exporter": "python",
   "pygments_lexer": "ipython3",
   "version": "3.12.4"
  }
 },
 "nbformat": 4,
 "nbformat_minor": 5
}
